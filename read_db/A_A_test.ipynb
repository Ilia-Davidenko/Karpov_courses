{
 "cells": [
  {
   "cell_type": "code",
   "execution_count": 1,
   "id": "1474067e-9cb8-47b4-8fc7-6f22a85f20af",
   "metadata": {},
   "outputs": [],
   "source": [
    "import pandahouse\n",
    "\n",
    "connection = {\n",
    "    'host': 'https://clickhouse.lab.karpov.courses',\n",
    "    'password': 'dpo_python_2020',\n",
    "    'user': 'student',\n",
    "    'database': 'simulator_'\n",
    "}\n"
   ]
  },
  {
   "cell_type": "code",
   "execution_count": null,
   "id": "e4cb2011-57c1-4e46-91b1-b71e3b6a6563",
   "metadata": {},
   "outputs": [],
   "source": [
    "from scipy import stats\n",
    "import random\n",
    "import matplotlib.pyplot as plt\n",
    "import seaborn as sns"
   ]
  },
  {
   "cell_type": "code",
   "execution_count": 4,
   "id": "c1070bfb-9ba1-4994-82d5-f489d4e7aeef",
   "metadata": {},
   "outputs": [
    {
     "data": {
      "text/html": [
       "<div>\n",
       "<style scoped>\n",
       "    .dataframe tbody tr th:only-of-type {\n",
       "        vertical-align: middle;\n",
       "    }\n",
       "\n",
       "    .dataframe tbody tr th {\n",
       "        vertical-align: top;\n",
       "    }\n",
       "\n",
       "    .dataframe thead th {\n",
       "        text-align: right;\n",
       "    }\n",
       "</style>\n",
       "<table border=\"1\" class=\"dataframe\">\n",
       "  <thead>\n",
       "    <tr style=\"text-align: right;\">\n",
       "      <th></th>\n",
       "      <th>exp_group</th>\n",
       "      <th>user_id</th>\n",
       "      <th>likes</th>\n",
       "      <th>views</th>\n",
       "      <th>ctr</th>\n",
       "    </tr>\n",
       "  </thead>\n",
       "  <tbody>\n",
       "    <tr>\n",
       "      <th>0</th>\n",
       "      <td>3</td>\n",
       "      <td>115383</td>\n",
       "      <td>38</td>\n",
       "      <td>248</td>\n",
       "      <td>0.153226</td>\n",
       "    </tr>\n",
       "    <tr>\n",
       "      <th>1</th>\n",
       "      <td>3</td>\n",
       "      <td>10326</td>\n",
       "      <td>24</td>\n",
       "      <td>132</td>\n",
       "      <td>0.181818</td>\n",
       "    </tr>\n",
       "    <tr>\n",
       "      <th>2</th>\n",
       "      <td>3</td>\n",
       "      <td>123580</td>\n",
       "      <td>25</td>\n",
       "      <td>122</td>\n",
       "      <td>0.204918</td>\n",
       "    </tr>\n",
       "    <tr>\n",
       "      <th>3</th>\n",
       "      <td>2</td>\n",
       "      <td>131473</td>\n",
       "      <td>19</td>\n",
       "      <td>98</td>\n",
       "      <td>0.193878</td>\n",
       "    </tr>\n",
       "    <tr>\n",
       "      <th>4</th>\n",
       "      <td>2</td>\n",
       "      <td>23985</td>\n",
       "      <td>12</td>\n",
       "      <td>44</td>\n",
       "      <td>0.272727</td>\n",
       "    </tr>\n",
       "  </tbody>\n",
       "</table>\n",
       "</div>"
      ],
      "text/plain": [
       "   exp_group  user_id  likes  views       ctr\n",
       "0          3   115383     38    248  0.153226\n",
       "1          3    10326     24    132  0.181818\n",
       "2          3   123580     25    122  0.204918\n",
       "3          2   131473     19     98  0.193878\n",
       "4          2    23985     12     44  0.272727"
      ]
     },
     "execution_count": 6,
     "metadata": {},
     "output_type": "execute_result"
    }
   ],
   "source": [
    "q = \"\"\"\n",
    "SELECT exp_group, \n",
    "    user_id,\n",
    "    sum(action = 'like') as likes,\n",
    "    sum(action = 'view') as views,\n",
    "    likes/views as ctr\n",
    "FROM simulator_20240220.feed_actions\n",
    "WHERE toDate(time) between '2024-01-19' and '2024-01-25'\n",
    "    and exp_group in (2,3)\n",
    "GROUP BY exp_group, user_id\n",
    "\"\"\"\n",
    "\n",
    "df = pandahouse.read_clickhouse(q, connection=connection)\n",
    "\n",
    "df.head()"
   ]
  },
  {
   "cell_type": "code",
   "execution_count": 30,
   "id": "1c28aa3f-c45d-4c50-ad63-ad245519b458",
   "metadata": {},
   "outputs": [],
   "source": [
    "#функция для набора рандомных групп по 500 человек\n",
    "\n",
    "def random_500_users(data, number_exp_group: int):\n",
    "    return data[data['exp_group'] == number_exp_group].sample(500)"
   ]
  },
  {
   "cell_type": "code",
   "execution_count": 49,
   "id": "1c080d1a-46b9-4cf5-8262-af78538161a3",
   "metadata": {},
   "outputs": [],
   "source": [
    "#прогоняем ttest 10000 раз\n",
    "p_values_lst = []\n",
    "for _ in range(10000):\n",
    "    ttest, p_value = stats.ttest_ind(random_500_users(df, 2).ctr,\n",
    "                    random_500_users(df, 3).ctr,\n",
    "                    equal_var=False)\n",
    "    p_values_lst.append(p_value)"
   ]
  },
  {
   "cell_type": "code",
   "execution_count": 63,
   "id": "5453423a-e81c-4fed-a64f-1271d6a15e2c",
   "metadata": {},
   "outputs": [
    {
     "data": {
      "text/plain": [
       "<Axes: ylabel='Count'>"
      ]
     },
     "execution_count": 63,
     "metadata": {},
     "output_type": "execute_result"
    },
    {
     "data": {
      "image/png": "[encoded data removed]",
      "text/plain": [
       "<Figure size 432x288 with 1 Axes>"
      ]
     },
     "metadata": {
      "needs_background": "light"
     },
     "output_type": "display_data"
    }
   ],
   "source": [
    "sns.histplot(p_values_lst)"
   ]
  },
  {
   "cell_type": "code",
   "execution_count": 72,
   "id": "22848c4d-d7fb-456b-996a-328b1b46f471",
   "metadata": {},
   "outputs": [
    {
     "name": "stdout",
     "output_type": "stream",
     "text": [
      "0.0481\n"
     ]
    }
   ],
   "source": [
    "#считаем долю значений p_value меньше либо равную 0.05\n",
    "\n",
    "count = 0\n",
    "for i in range(len(p_values_lst)):\n",
    "    if p_values_lst[i] <= 0.05:\n",
    "        count += 1\n",
    "print(count / len(p_values_lst))"
   ]
  },
  {
   "cell_type": "markdown",
   "id": "6f65cf8e-efb4-4e19-81c7-512968a4b9f1",
   "metadata": {},
   "source": [
    "Проведенные сравнения показали, что между группами 2 и 3 есть статистически значимые различия, так как при проведении 10000 ttest'ов доля P_value меньше либо равная 0.05 составила 0.0481, что говорит нам о том, что система сплитования работает некорректно. \n",
    "\n",
    "Надеюсь, что я правильно провел тесты и сделал вывод, до сих пор большие проблемы с интерпретацией результатов p_value\n"
   ]
  }
 ],
 "metadata": {
  "kernelspec": {
   "display_name": "Python 3 (ipykernel)",
   "language": "python",
   "name": "python3"
  },
  "language_info": {
   "codemirror_mode": {
    "name": "ipython",
    "version": 3
   },
   "file_extension": ".py",
   "mimetype": "text/x-python",
   "name": "python",
   "nbconvert_exporter": "python",
   "pygments_lexer": "ipython3",
   "version": "3.8.10"
  }
 },
 "nbformat": 4,
 "nbformat_minor": 5
}
