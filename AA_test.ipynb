{
 "cells": [
  {
   "cell_type": "markdown",
   "id": "bbce05da-1a36-48b1-9a56-116133d4e286",
   "metadata": {},
   "source": [
    "## А/А тест с бутстрапом \n",
    "\n",
    "Итак, что нужно сделать: у нас есть данные А/А-теста с '2023-08-22' по '2023-08-28'. Вам нужно сделать симуляцию, как будто мы провели 10000 А/А-тестов. На каждой итерации вам нужно сформировать подвыборки без повторения в 500 юзеров из 2 и 3 экспериментальной группы. Провести сравнение этих подвыборок t-testом.\n",
    "\n",
    "1. Построить гистограмму распределения получившихся 10000 p-values.\n",
    "\n",
    "2. Посчитать, какой процент p values оказался меньше либо равен 0.05\n",
    "\n",
    "3. Написать вывод по проведенному А/А-тесту, корректно ли работает наша система сплитования."
   ]
  },
  {
   "cell_type": "code",
   "execution_count": 10,
   "id": "e36c3e58-c854-4603-bc28-3685407e6301",
   "metadata": {},
   "outputs": [],
   "source": [
    "import pandas as pd\n",
    "import pandahouse \n",
    "import seaborn as sns \n",
    "import matplotlib.pyplot as plt\n",
    "import numpy as np\n",
    "import hashlib # делать хеши\n",
    "import swifter # ускорялк метода apply\n",
    "from scipy import stats \n",
    "%matplotlib inline"
   ]
  },
  {
   "cell_type": "code",
   "execution_count": 11,
   "id": "7f38e833-4237-41c3-a739-e16196488735",
   "metadata": {},
   "outputs": [],
   "source": [
    "#параметры соединения - нужны, чтобы подключиться к нужной схеме данных\n",
    "connection = {'host': 'https://clickhouse.lab.karpov.courses',\n",
    "'database':'simulator_20230920',\n",
    "'user':'student',\n",
    "'password':'dpo_python_2020'\n",
    "}"
   ]
  },
  {
   "cell_type": "code",
   "execution_count": 14,
   "id": "874f2c1a-13a3-4974-ace0-36f62371479d",
   "metadata": {},
   "outputs": [],
   "source": [
    "q = \"\"\"\n",
    "SELECT exp_group, \n",
    "    user_id,\n",
    "    sum(action = 'like') as likes,\n",
    "    sum(action = 'view') as views,\n",
    "    likes/views as ctr\n",
    "FROM {db}.feed_actions \n",
    "WHERE toDate(time) between '2023-08-22' and '2023-08-28'\n",
    "    and exp_group in (2,3)\n",
    "GROUP BY exp_group, user_id\n",
    "\"\"\"\n",
    "\n",
    "df = pandahouse.read_clickhouse(q, connection=connection)\n",
    "\n",
    "group_A = df[df.exp_group == 2].copy()\n",
    "group_B = df[df.exp_group == 3].copy()"
   ]
  },
  {
   "cell_type": "code",
   "execution_count": 18,
   "id": "e8065bee-554f-43f3-a157-35b19764096a",
   "metadata": {},
   "outputs": [
    {
     "data": {
      "text/plain": [
       "<seaborn.axisgrid.FacetGrid at 0x7f68ae0d1a00>"
      ]
     },
     "execution_count": 18,
     "metadata": {},
     "output_type": "execute_result"
    },
    {
     "data": {
      "image/png": "[encoded data removed]",
      "text/plain": [
       "<Figure size 360x360 with 1 Axes>"
      ]
     },
     "metadata": {
      "needs_background": "light"
     },
     "output_type": "display_data"
    }
   ],
   "source": [
    "ps = []\n",
    "for i in range(10000):\n",
    "    _, p_value = stats.ttest_ind(group_A.ctr.sample(frac=0.05, replace=True),\n",
    "                                 group_B.ctr.sample(frac=0.05, replace=True),\n",
    "                                 equal_var=False)\n",
    "    ps.append(p_value)\n",
    "sns.displot(ps)"
   ]
  },
  {
   "cell_type": "code",
   "execution_count": 19,
   "id": "07bb9959-fe4c-4e41-8a4f-7a668d42ce29",
   "metadata": {},
   "outputs": [
    {
     "data": {
      "text/plain": [
       "0.0538"
      ]
     },
     "execution_count": 19,
     "metadata": {},
     "output_type": "execute_result"
    }
   ],
   "source": [
    "sum(np.array(ps) < 0.05)/10000"
   ]
  },
  {
   "cell_type": "markdown",
   "id": "3ba34905-3f52-4140-89c9-c660ea004b90",
   "metadata": {},
   "source": [
    "Вывод: По проведенному А/А-тесту, система сплитования работает корректно. Т.к статистически значимые различия между двумя группами встречаются только в результате случайного ложного срабатывания, т.е только приблизительно в 5% случаев получались статистические значимые различия между 2 и 3 группой. "
   ]
  }
 ],
 "metadata": {
  "kernelspec": {
   "display_name": "Python 3 (ipykernel)",
   "language": "python",
   "name": "python3"
  },
  "language_info": {
   "codemirror_mode": {
    "name": "ipython",
    "version": 3
   },
   "file_extension": ".py",
   "mimetype": "text/x-python",
   "name": "python",
   "nbconvert_exporter": "python",
   "pygments_lexer": "ipython3",
   "version": "3.8.10"
  }
 },
 "nbformat": 4,
 "nbformat_minor": 5
}
